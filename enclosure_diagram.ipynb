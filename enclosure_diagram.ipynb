{
 "cells": [
  {
   "cell_type": "code",
   "execution_count": 3,
   "metadata": {
    "id": "vV4YsrRQB5OP"
   },
   "outputs": [],
   "source": [
    "from anytree import PostOrderIter\n",
    "from anytree.importer import DictImporter\n"
   ]
  },
  {
   "cell_type": "code",
   "execution_count": 2,
   "metadata": {},
   "outputs": [
    {
     "name": "stdout",
     "output_type": "stream",
     "text": [
      "Collecting anytree\n",
      "  Obtaining dependency information for anytree from https://files.pythonhosted.org/packages/6a/fb/ff946843e6b55ae9fda84df3964d6c233cd2261dface789f5be02ab79bc5/anytree-2.12.1-py3-none-any.whl.metadata\n",
      "  Downloading anytree-2.12.1-py3-none-any.whl.metadata (8.1 kB)\n",
      "Requirement already satisfied: six in d:\\anaconda_installation\\lib\\site-packages (from anytree) (1.16.0)\n",
      "Downloading anytree-2.12.1-py3-none-any.whl (44 kB)\n",
      "   ---------------------------------------- 0.0/44.9 kB ? eta -:--:--\n",
      "   ---------------------------------------- 44.9/44.9 kB 1.1 MB/s eta 0:00:00\n",
      "Installing collected packages: anytree\n",
      "Successfully installed anytree-2.12.1\n"
     ]
    }
   ],
   "source": [
    "!pip install anytree"
   ]
  },
  {
   "cell_type": "code",
   "execution_count": 4,
   "metadata": {
    "id": "zazrmX85B-FI"
   },
   "outputs": [],
   "source": [
    "#read file\n",
    "import json\n",
    "with open('flare.json') as f:\n",
    "    js_data = json.loads(f.read())"
   ]
  },
  {
   "cell_type": "code",
   "execution_count": 5,
   "metadata": {
    "id": "NF5fp60tB61G"
   },
   "outputs": [
    {
     "data": {
      "application/vnd.jupyter.widget-view+json": {
       "model_id": "90226d307add420ca6aefc6c4607400d",
       "version_major": 2,
       "version_minor": 0
      },
      "text/plain": [
       "interactive(children=(IntSlider(value=2, description='sliderVal', max=5), Output()), _dom_classes=('widget-int…"
      ]
     },
     "metadata": {},
     "output_type": "display_data"
    },
    {
     "data": {
      "text/plain": [
       "<function __main__.update(sliderVal)>"
      ]
     },
     "execution_count": 5,
     "metadata": {},
     "output_type": "execute_result"
    }
   ],
   "source": [
    "#imports dictonary in a tree form\n",
    "import pandas as pd\n",
    "import plotly\n",
    "import plotly.graph_objects as go\n",
    "from ipywidgets import widgets\n",
    "import plotly.io as pio\n",
    "pio.renderers.default = 'iframe'\n",
    "importer = DictImporter()\n",
    "root = importer.import_(js_data)\n",
    "\n",
    "\n",
    "size = []\n",
    "name = []\n",
    "parent = []\n",
    "level = []\n",
    "\n",
    "def format(node):\n",
    "  for i in node.children:\n",
    "    #check if node as attribute value\n",
    "    if hasattr(i, 'value') == False:\n",
    "      format(i)\n",
    "    v = i.value\n",
    "    #check if node parent as attribute value\n",
    "    if hasattr(i.parent, 'value'):\n",
    "      i.parent.value += v\n",
    "    #if node parent doesn't have a value set to same val as child\n",
    "    elif hasattr(i.parent, 'value')== False:\n",
    "      i.parent.value = v\n",
    "\n",
    "    level.append(len(i.ancestors))\n",
    "    name.append(i.name)\n",
    "    parent.append(i.parent.name)\n",
    "    size.append(i.value)\n",
    "    \n",
    "format(root)\n",
    "\n",
    "#append attributes for root\n",
    "level.append(0)\n",
    "name.append(root.name)\n",
    "parent.append(\"\")\n",
    "size.append(root.value)\n",
    "\n",
    "#create df\n",
    "df = pd.DataFrame()\n",
    "df['parent'] = parent\n",
    "df['name'] = name\n",
    "df['value']= size\n",
    "df['level'] = level\n",
    "\n",
    "#slider funtion\n",
    "def update(sliderVal):\n",
    "  fig = plotly.graph_objs.Figure()\n",
    "  fig.add_trace(plotly.graph_objs.Treemap(\n",
    "      labels = df[df['level']<sliderVal]['name'],\n",
    "      values = df[df['level']<sliderVal]['value'],\n",
    "      parents = df[df['level']<sliderVal]['parent']  \n",
    "  ))\n",
    "  fig.update_traces(root_color=\"#f1f1f1\")\n",
    "  fig.update_layout(width = 900, height = 900)\n",
    "  fig.show()\n",
    "\n",
    "#create slider widget\n",
    "widgets.interact(update, sliderVal = (0, 5))"
   ]
  },
  {
   "cell_type": "code",
   "execution_count": null,
   "metadata": {},
   "outputs": [],
   "source": []
  }
 ],
 "metadata": {
  "colab": {
   "name": "enclosure_diagram.ipynb",
   "provenance": []
  },
  "kernelspec": {
   "display_name": "Python 3 (ipykernel)",
   "language": "python",
   "name": "python3"
  },
  "language_info": {
   "codemirror_mode": {
    "name": "ipython",
    "version": 3
   },
   "file_extension": ".py",
   "mimetype": "text/x-python",
   "name": "python",
   "nbconvert_exporter": "python",
   "pygments_lexer": "ipython3",
   "version": "3.11.5"
  }
 },
 "nbformat": 4,
 "nbformat_minor": 4
}
