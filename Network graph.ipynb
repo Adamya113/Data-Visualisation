{
 "cells": [
  {
   "cell_type": "code",
   "execution_count": 1,
   "id": "486baba3-e369-437f-b342-13ccec1e3bf7",
   "metadata": {},
   "outputs": [],
   "source": [
    "import random\n",
    "node_list = [\"A\",\"B\",\"C\",\"D\",\"E\",\"F\",\"G\",\"H\",\"I\"]\n",
    "def draw_number(length):\n",
    "    \"\"\"determines a random index number for selection.\"\"\"\n",
    "    from_index = random.randint(0,length)\n",
    "    to_index = random.randint(0,length)\n",
    "    return from_index, to_index\n",
    "from_list = []\n",
    "to_list = []\n",
    "counter = 20\n",
    "i = 0\n",
    "while i < counter:\n",
    "    from_index, to_index = draw_number(len(node_list)-1)\n",
    "    if from_index == to_index:\n",
    "        continue\n",
    "    from_list.append(node_list[from_index])\n",
    "    to_list.append(node_list[to_index])\n",
    "    i += 1"
   ]
  },
  {
   "cell_type": "code",
   "execution_count": 2,
   "id": "fa80511c-9e7e-4c4d-9f0a-62eacebc4dfe",
   "metadata": {},
   "outputs": [
    {
     "name": "stdout",
     "output_type": "stream",
     "text": [
      "['I', 'B', 'D', 'C', 'I', 'F', 'H', 'A', 'B', 'F', 'H', 'E', 'A', 'G', 'B', 'I', 'I', 'F', 'E', 'C']\n",
      "['C', 'A', 'B', 'D', 'C', 'H', 'E', 'G', 'F', 'E', 'E', 'F', 'I', 'E', 'H', 'F', 'F', 'I', 'A', 'A']\n"
     ]
    }
   ],
   "source": [
    "print(from_list)\n",
    "print(to_list)"
   ]
  },
  {
   "cell_type": "code",
   "execution_count": 3,
   "id": "65db0fdf-c0b8-40f4-b951-d5e32bbd4a8a",
   "metadata": {},
   "outputs": [],
   "source": [
    "import networkx as nx\n",
    "import plotly.graph_objs as go\n",
    "G = nx.Graph()\n",
    "for i in range(len(node_list)):\n",
    "    G.add_node(node_list[i])\n",
    "    G.add_edges_from([(from_list[i], to_list[i])])"
   ]
  },
  {
   "cell_type": "code",
   "execution_count": 4,
   "id": "d1976252-383e-4b89-a592-312b65db7376",
   "metadata": {},
   "outputs": [],
   "source": [
    "pos = nx.spring_layout(G, k=0.5, iterations=100)\n",
    "for n, p in pos.items():\n",
    "    G.nodes[n]['pos'] = p"
   ]
  },
  {
   "cell_type": "code",
   "execution_count": 5,
   "id": "04abb95f-6c33-407e-93ce-477d38346942",
   "metadata": {},
   "outputs": [],
   "source": [
    "edge_trace = go.Scatter(\n",
    "    x=[],\n",
    "    y=[],\n",
    "    line=dict(width=0.5, color='#888'),\n",
    "    hoverinfo='none',\n",
    "    mode='lines')\n",
    "for edge in G.edges():\n",
    "    x0, y0 = G.nodes[edge[0]]['pos']\n",
    "    x1, y1 = G.nodes[edge[1]]['pos']\n",
    "    edge_trace['x'] += tuple([x0, x1, None])\n",
    "    edge_trace['y'] += tuple([y0, y1, None])"
   ]
  },
  {
   "cell_type": "code",
   "execution_count": 6,
   "id": "a80c4df8-e8d9-49ad-a69a-92ea11da4247",
   "metadata": {},
   "outputs": [],
   "source": [
    "node_trace = go.Scatter(\n",
    "    x=[],\n",
    "    y=[],\n",
    "    text=[],\n",
    "    mode='markers+text',\n",
    "    hoverinfo='text',\n",
    "    marker=dict(\n",
    "        showscale=True,\n",
    "        colorscale='pinkyl',\n",
    "        reversescale=True,\n",
    "        color=[],\n",
    "        size=37,\n",
    "        colorbar=dict(\n",
    "            thickness=1,\n",
    "            title='Node Connections',\n",
    "            xanchor='left',\n",
    "            titleside='right'\n",
    "        ),\n",
    "        line=dict(width=0)))\n",
    "for node in G.nodes():\n",
    "    x, y = G.nodes[node]['pos']\n",
    "    node_trace['x'] += tuple([x])\n",
    "    node_trace['y'] += tuple([y])\n",
    "for node, adjacencies in enumerate(G.adjacency()):\n",
    "    node_trace['marker']['color'] += tuple([len(adjacencies[1])])\n",
    "    node_info = adjacencies[0]\n",
    "    node_trace['text'] += tuple([node_info])"
   ]
  },
  {
   "cell_type": "code",
   "execution_count": 7,
   "id": "496386f0-85dc-4f15-a232-6dee9c38986b",
   "metadata": {},
   "outputs": [
    {
     "data": {
      "text/html": [
       "<iframe\n",
       "    scrolling=\"no\"\n",
       "    width=\"100%\"\n",
       "    height=\"545px\"\n",
       "    src=\"iframe_figures/figure_7.html\"\n",
       "    frameborder=\"0\"\n",
       "    allowfullscreen\n",
       "></iframe>\n"
      ]
     },
     "metadata": {},
     "output_type": "display_data"
    }
   ],
   "source": [
    "import plotly.io as pio\n",
    "pio.renderers.default = 'iframe'\n",
    "title = \"Network Graph Demonstration\"\n",
    "fig = go.Figure(data=[edge_trace, node_trace],\n",
    "                layout=go.Layout(\n",
    "                title=title,\n",
    "                titlefont=dict(size=16),\n",
    "                showlegend=False,\n",
    "                hovermode='closest',\n",
    "                margin=dict(b=21, l=5, r=5, t=40),\n",
    "                annotations=[dict(\n",
    "                    text=\"Text Here\",\n",
    "                    showarrow=False,\n",
    "                    xref=\"paper\", yref=\"paper\")],\n",
    "                xaxis=dict(showgrid=False, zeroline=False,\n",
    "                           showticklabels=False, mirror=True),\n",
    "                yaxis=dict(showgrid=False, zeroline=False, showticklabels=False, mirror=True)))\n",
    "fig.show()"
   ]
  },
  {
   "cell_type": "code",
   "execution_count": null,
   "id": "78fec309-dc92-4b2e-b34c-e7df0ae434f2",
   "metadata": {},
   "outputs": [],
   "source": []
  }
 ],
 "metadata": {
  "kernelspec": {
   "display_name": "Python 3 (ipykernel)",
   "language": "python",
   "name": "python3"
  },
  "language_info": {
   "codemirror_mode": {
    "name": "ipython",
    "version": 3
   },
   "file_extension": ".py",
   "mimetype": "text/x-python",
   "name": "python",
   "nbconvert_exporter": "python",
   "pygments_lexer": "ipython3",
   "version": "3.11.5"
  }
 },
 "nbformat": 4,
 "nbformat_minor": 5
}
